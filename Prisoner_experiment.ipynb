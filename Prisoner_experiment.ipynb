{
 "cells": [
  {
   "cell_type": "code",
   "execution_count": 222,
   "id": "73f82009",
   "metadata": {},
   "outputs": [],
   "source": [
    "import random as rnd\n",
    "import timeit as tt\n",
    "import matplotlib.pyplot as plt\n",
    "import seaborn as sns\n",
    "import pandas as pd"
   ]
  },
  {
   "cell_type": "code",
   "execution_count": 225,
   "id": "595553de",
   "metadata": {},
   "outputs": [],
   "source": [
    "def prisoner(n):\n",
    "    tag_boxes = list(range(1,n+1)) # list containing prisoner number tags that will eventually be placed inside boxes\n",
    "    rnd.shuffle(tag_boxes) #randomize tag numbers\n",
    "    box_numbers = {'Box '+ str(i): tag_boxes[i-1] for i in range(1,n+1)} # assigned seat\n",
    "    #results = [] # 1 if in index[i-1] if the ith prisoner successfully finds his tag inside a box\n",
    "    for j in range(1, n+1):\n",
    "        pick = j # jth Prisoner's first pick - his own tag\n",
    "        i = 1\n",
    "        while (box_numbers['Box '+str(pick)] != j) & (i < int(n/2)+1):\n",
    "            pick = box_numbers['Box '+str(pick)]\n",
    "            i += 1\n",
    "        if i == int(n/2)+1: return 0 \n",
    "    return 1     "
   ]
  },
  {
   "cell_type": "markdown",
   "id": "332bfb56",
   "metadata": {},
   "source": [
    "This is the story of the fall of an evil mastermind prison warden who wreaked havoc during his tenure in one of the biggest prisons in the world. \n",
    "\n",
    "The warden was notorious for playing mind games with the death row prisoners. One day, he gathered all 100 of them numbered 1 through 100, and presented them with a unique opportunity. He made the following announcement:\n",
    "\n",
    "In the common grounds, I have placed 100 boxes with each box containing one of your ID. You can go outside one person at a time and can randonly open up to 50 boxes, one at a time. You must close the box after you open it. If every one of you manages to find your ID in a box, you are all free to leave the prison. But even one of you fails, you will all die today. You can come up with a stratergy before the first prisoner goes outside. Once he is out, the game begins and any means of communication is prohibited. Good luck! \n",
    "\n",
    "How ingenious!! If the prisoners do not come up with a strategy, they are doomed because the chances of this happening by luck(at random) are extremely small. Since there is a 50% chance for each prisoner to find his ID in a box, the probability that all 100 of them find their ID is\n",
    "\n",
    "The probability of the prisoners winning this game through luck. \n",
    "\n",
    "Preliminaries:\n",
    "\n",
    "The prisoners are not too shabby themselves. They endured the warden's games for so long. It is only natural that they put up a good fight. Before revealing the prisoner's strategy, let us dive into abstract algebra. \n",
    "\n",
    "Permutations:\n",
    "\n",
    "We have all heard the word permutations. They hold a special and strong place in the world of abstract algebra, especially finite groups. It is also not surprising that we are talking about it since the game also involves a permutation of 100 IDs. \n",
    "\n",
    " We do not need to know anything technical, really. All we need is to understand permutations as a function and a different perspective to view them. For example, take this example of arranging 8 objects numbered 1 through 8 in a line. \n",
    "\n",
    "One arrangement of 8 objects\n",
    "\n",
    "This is how we think of this arrangement as a function. \n",
    "\n",
    "The function that takes each object to its position\n",
    "\n",
    "In the demonstration above, the 8th object is placed in the 5th position, and so on. The reason this is helpful is to identify what we call a cycle. Think about how the objects 2 and 7 are arranged. They are interchanged, right? That's a cycle. That is not the only type of cycle: Look at objects 3,6 and 4. \n",
    "\n",
    "3rd object is placed in 6th position. 6th object is placed in 4th position and finally, 4th object is placed in 3rd position. \n",
    "\n",
    "So, when you start at some object and end at the same object's position, we call it a cycle. Some cycles are trivial, for example, 1st object is placed in the first position. That is a trivial cycle meaning it describes a fixed position. \n",
    "\n",
    "How is this helpful? \n",
    "\n",
    "Well, this perception is even better. For example, we can think of the permutation 17638425 as follows:\n",
    "\n",
    "Permutation as a composition of cycles\n",
    "\n",
    "This is how we read this notation. 2 is sent to 7 and 7 is sent to 2. That's a cycle. 3 is sent to 6 and 6 is sent to 4 and 4 is sent to 3. Finally, 5 is sent to 8 and 8 to 5. We agree that the numbers not included here have to be fixed points. For example, 1 is sent to 1. \n",
    "\n",
    "This notation conveys the exact same information as 17638425. As you might have noticed, this notation is definitely not unique. We can very well write the same as\n",
    "\n",
    "Another way to write the same arrangement as above\n",
    "\n",
    "If you are curious, take another arrangement and try writing it using this definition. \n",
    "\n",
    "The Strategy:\n",
    "\n",
    "The prisoners had a good understanding of permutations and cycles so they came up with this strategy. \n",
    "\n",
    "The first box we each pick has to be the box with our ID number. If the box does not have your ID but some other number X, then pick next the Box: X. Open Box: X. If it doesn't your ID but the number Y, then pick next the Box: Y. Continue this until the end of your turn. \n",
    "\n",
    "Well, would you believe this strategy has a success probability of a little over 31%? Not only that, this is the optimal strategy for this problem. The optimality proof is beyond the scope of this article. However, we can talk about the probability of success. \n",
    "\n",
    "Let's take the same example we used. Imagine, instead of 100 prisoners, we only have 8, and the warden arranged the ID with respect to this arrangement: 17638425. Since there are only 8 prisoners, they only get to open 4 to preserve the nature of the problem. Do you think the prisoners win in this particular arrangement? \n",
    "\n",
    "They do! Try working it out to see for yourself. But why? The best way to understand is to come up with an example where they do not win. Here is one\n",
    "\n",
    "The same arrangement as a composition of different cycles:\n",
    "\n",
    "Can you see why? The 2nd, 7th, and the 8th prisoner will find their ID. But that's it. As you can see, the 'losers' are all in the same cycle. That is not a coincidence. \n",
    "\n",
    "Observation: When there are '2n' prisoners, you need the permutation to have cycles less than or equal to length 'n'. \n",
    "\n",
    "In the first example, all the cycles had lengths less than 4 so everyone managed to get their IDs. However, in the second example, that wasn't the case. Can we redefine the problem for our calculations?\n",
    "\n",
    "How many permutation of first 100  natural numbers have cycles of lengths more than 50?\n",
    "\n",
    "This is way easier to interpret and answer. The first thing to notice is that you can only have one cycle of length more than 50 per arrangement. Otherwise, you are permuting more than 100 elements. So, first, you pick 'n' elements from 1 through 100 to make it a cycle where 'n' is an integer strictly greater than 50. We know exactly how many ways we can do this:\n",
    "\n",
    "Number of ways you can pick n elements out of 100\n",
    "\n",
    "Once you pick 'n' elements, there are 'n!' ways to arrange them. However, we want them to be a cycle. Meaning, it is a circular arrangement. As we discussed earlier, a cycle (3145) is the same as (4531). So, for every arrangement, there are 'n' duplicates so the number of ways you can arrange them uniquely in a cycle is given by:\n",
    "\n",
    "Do not forget the remaining (100-n) elements. They can however be arranged in any way. They need not be a cycle. So, there are (100-n)! ways to arrange them. We combine everything to get:\n",
    "\n",
    "Number of permutations of 100 with cycles of length n > 50.\n",
    "\n",
    "So, the probability that a permutation has a cycle of length 'n' with n>50 is\n",
    "\n",
    "From here, our calculation is straightforward. We do not want any cycles of length more than 50. So, we subtract all of those probabilities from 1. \n",
    "\n",
    "Damn! This is astonishing compared to the original chances they had. \n",
    "\n",
    "You might wonder why this led to the fall of the warden. Well, that just sounded fun. He really must have been devastated though. \n",
    "\n",
    "Simulation: \n",
    "\n",
    "We can verify this solution through simulation as well. \n",
    "\n",
    "def prisoner(n):\n",
    "    tag_boxes = list(range(1,n+1)) # list containing prisoner number tags that will eventually be placed inside boxes\n",
    "    rnd.shuffle(tag_boxes) #randomize tag numbers\n",
    "    box_numbers = {'Box '+ str(i): tag_boxes[i-1] for i in range(1,n+1)} # assigned seat\n",
    "    #results = [] # 1 if in index[i-1] if the ith prisoner successfully finds his tag inside a box\n",
    "    for j in range(1, n+1):\n",
    "        pick = j # jth Prisoner's first pick - his own tag\n",
    "        i = 1\n",
    "        while (box_numbers['Box '+str(pick)] != j) & (i < int(n/2)+1):\n",
    "            pick = box_numbers['Box '+str(pick)]\n",
    "            i += 1\n",
    "        if i == int(n/2)+1: return 0 \n",
    "    return 1 \n",
    "\n",
    "If we run this function multiple times and record the success and failure rates, we get the probability close to the theoretical value (dashed black line). \n",
    "\n",
    "Graph showing frequency approaching theoretical probability\n",
    "\n",
    "Other observations:\n",
    "\n",
    "Does the number of prisoners affect the strategy?\n",
    "\n",
    "Well, if there are only 2 prisoners, this strategy will give the prisoners a 50% chance to come out alive. However, as the number of prisoners increases, the probability seems to gradually decrease. That is not so surprising. \n",
    "\n",
    "But for an arbitrarily large number of prisoners, the probability of success is approximately:\n",
    "\n",
    "If you are curious about this fact, look into Euler's constant and Harmonic series. \n",
    "\n",
    "Variations:\n",
    "\n",
    "There are plenty of variations of this problem. However, I am fond of these two:\n",
    "\n",
    "For an arbitrarily large number of prisoners, if any prisoner who ends up finding his ID gets released, what are the chances that an individual prisoner gets released following the strategy vs. through luck?\n",
    "\n",
    "If one prisoner gets to go outside and look at all the boxes and swap the contents of exactly two boxes, What is the optimal strategy for that person? What is the new probability of success?  \n",
    "\n"
   ]
  },
  {
   "cell_type": "code",
   "execution_count": 226,
   "id": "165dfd47",
   "metadata": {},
   "outputs": [],
   "source": [
    "def runtest(m,n): #  m is the number of times we repeat the experiment, n is the number of prisoners\n",
    "  result = [prisoner(n) for i in range(1,m+1)]\n",
    "  return sum(result)"
   ]
  },
  {
   "cell_type": "code",
   "execution_count": 196,
   "id": "8e006c37",
   "metadata": {},
   "outputs": [
    {
     "ename": "KeyboardInterrupt",
     "evalue": "",
     "output_type": "error",
     "traceback": [
      "\u001b[1;31m---------------------------------------------------------------------------\u001b[0m",
      "\u001b[1;31mKeyboardInterrupt\u001b[0m                         Traceback (most recent call last)",
      "Cell \u001b[1;32mIn[196], line 1\u001b[0m\n\u001b[1;32m----> 1\u001b[0m runtest(\u001b[38;5;241m100\u001b[39m,\u001b[38;5;241m10000\u001b[39m)\n",
      "Cell \u001b[1;32mIn[157], line 2\u001b[0m, in \u001b[0;36mruntest\u001b[1;34m(m, n)\u001b[0m\n\u001b[0;32m      1\u001b[0m \u001b[38;5;28;01mdef\u001b[39;00m \u001b[38;5;21mruntest\u001b[39m(m,n): \u001b[38;5;66;03m#  m is the number of times we repeat the experiment, n is the number of prisoners\u001b[39;00m\n\u001b[1;32m----> 2\u001b[0m   result \u001b[38;5;241m=\u001b[39m [prisoner(n) \u001b[38;5;28;01mfor\u001b[39;00m i \u001b[38;5;129;01min\u001b[39;00m \u001b[38;5;28mrange\u001b[39m(\u001b[38;5;241m1\u001b[39m,m\u001b[38;5;241m+\u001b[39m\u001b[38;5;241m1\u001b[39m)]\n\u001b[0;32m      3\u001b[0m   \u001b[38;5;28;01mreturn\u001b[39;00m \u001b[38;5;28msum\u001b[39m(result)\n",
      "Cell \u001b[1;32mIn[157], line 2\u001b[0m, in \u001b[0;36m<listcomp>\u001b[1;34m(.0)\u001b[0m\n\u001b[0;32m      1\u001b[0m \u001b[38;5;28;01mdef\u001b[39;00m \u001b[38;5;21mruntest\u001b[39m(m,n): \u001b[38;5;66;03m#  m is the number of times we repeat the experiment, n is the number of prisoners\u001b[39;00m\n\u001b[1;32m----> 2\u001b[0m   result \u001b[38;5;241m=\u001b[39m [prisoner(n) \u001b[38;5;28;01mfor\u001b[39;00m i \u001b[38;5;129;01min\u001b[39;00m \u001b[38;5;28mrange\u001b[39m(\u001b[38;5;241m1\u001b[39m,m\u001b[38;5;241m+\u001b[39m\u001b[38;5;241m1\u001b[39m)]\n\u001b[0;32m      3\u001b[0m   \u001b[38;5;28;01mreturn\u001b[39;00m \u001b[38;5;28msum\u001b[39m(result)\n",
      "Cell \u001b[1;32mIn[153], line 9\u001b[0m, in \u001b[0;36mprisoner\u001b[1;34m(n)\u001b[0m\n\u001b[0;32m      7\u001b[0m pick \u001b[38;5;241m=\u001b[39m j \u001b[38;5;66;03m# jth Prisoner's first pick - his own tag\u001b[39;00m\n\u001b[0;32m      8\u001b[0m \u001b[38;5;28;01mfor\u001b[39;00m i \u001b[38;5;129;01min\u001b[39;00m \u001b[38;5;28mrange\u001b[39m(\u001b[38;5;241m1\u001b[39m, \u001b[38;5;28mint\u001b[39m(n\u001b[38;5;241m/\u001b[39m\u001b[38;5;241m2\u001b[39m)\u001b[38;5;241m+\u001b[39m\u001b[38;5;241m1\u001b[39m):\n\u001b[1;32m----> 9\u001b[0m     \u001b[38;5;28;01mif\u001b[39;00m (box_numbers[\u001b[38;5;124m'\u001b[39m\u001b[38;5;124mBox \u001b[39m\u001b[38;5;124m'\u001b[39m\u001b[38;5;241m+\u001b[39m\u001b[38;5;28mstr\u001b[39m(pick)] \u001b[38;5;241m!=\u001b[39m j):\n\u001b[0;32m     10\u001b[0m         pick \u001b[38;5;241m=\u001b[39m box_numbers[\u001b[38;5;124m'\u001b[39m\u001b[38;5;124mBox \u001b[39m\u001b[38;5;124m'\u001b[39m\u001b[38;5;241m+\u001b[39m\u001b[38;5;28mstr\u001b[39m(pick)]\n\u001b[0;32m     11\u001b[0m \u001b[38;5;28;01mif\u001b[39;00m (box_numbers[\u001b[38;5;124m'\u001b[39m\u001b[38;5;124mBox \u001b[39m\u001b[38;5;124m'\u001b[39m\u001b[38;5;241m+\u001b[39m\u001b[38;5;28mstr\u001b[39m(pick)] \u001b[38;5;241m!=\u001b[39m j):\n",
      "\u001b[1;31mKeyboardInterrupt\u001b[0m: "
     ]
    }
   ],
   "source": [
    "runtest(100,10000)"
   ]
  },
  {
   "cell_type": "code",
   "execution_count": 227,
   "id": "2831b3a4",
   "metadata": {},
   "outputs": [],
   "source": [
    "x = list(range(100,10000,50))\n",
    "y = [runtest(i,100) for i in x]\n",
    "ratio = [j/i for i,j in zip(x,y)]"
   ]
  },
  {
   "cell_type": "code",
   "execution_count": 228,
   "id": "d8fb3a76",
   "metadata": {},
   "outputs": [
    {
     "data": {
      "image/png": "[encoded data removed]",
      "text/plain": [
       "<Figure size 640x480 with 1 Axes>"
      ]
     },
     "metadata": {},
     "output_type": "display_data"
    }
   ],
   "source": [
    "data = {\"Number of repetitions\": x, \"Frequency ratio\": ratio}\n",
    "df = pd.DataFrame(data)\n",
    "sns.regplot(x=df[\"Number of repetitions\"], y=df[\"Frequency ratio\"], scatter_kws={'s': 20}, line_kws = {'color':'black', })\n",
    "plt.title('Cruel Warden')\n",
    "plt.axhline(y = 0.31183, color = 'black', linewidth = 2.5, linestyle = 'dashed')\n",
    "plt.ylim(0,0.5)\n",
    "plt.savefig('Creul_warden')\n",
    "plt.show()"
   ]
  },
  {
   "cell_type": "code",
   "execution_count": 219,
   "id": "4a3d3a3d",
   "metadata": {},
   "outputs": [],
   "source": [
    "def harmonic(x):\n",
    "    sum([1/i for i in range(1,x+1)])"
   ]
  },
  {
   "cell_type": "code",
   "execution_count": 218,
   "id": "dddd596d",
   "metadata": {},
   "outputs": [
    {
     "data": {
      "text/plain": [
       "2.335872634305894"
      ]
     },
     "execution_count": 218,
     "metadata": {},
     "output_type": "execute_result"
    }
   ],
   "source": [
    "sum([1/i for i in range(1,30,2)])"
   ]
  },
  {
   "cell_type": "code",
   "execution_count": null,
   "id": "07eac1fb",
   "metadata": {},
   "outputs": [],
   "source": [
    "%%manim -qm Permutations\n",
    "\n",
    "class Permutations(Scene):\n",
    "    def construct(self):\n",
    "        self.camera.background_color = WHITE\n",
    "        circle1 = Circle(color= BLUE , radius = 0.5).shift(UP*2)\n",
    "        circle2 = Circle(color= BLUE , radius = 0.5).shift(LEFT *2)\n",
    "        circle3 = Circle(color= BLUE , radius = 0.5).shift(RIGHT*2)\n",
    "        circle4 = Circle(color= BLUE , radius = 0.5).shift(DOWN*2)\n",
    "        a = MathTex(\"1\").shift(UP*2)\n",
    "        a.set_color_by_tex(\"1\", BLACK)\n",
    "        #circle5 = Circle(color= BLUE , radius = 0.5)\n",
    "        self.play(GrowFromCenter(circle1),GrowFromCenter(circle2),GrowFromCenter(circle3),GrowFromCenter(circle4))\n",
    "        self.play(Write(a))\n",
    "        self.wait()"
   ]
  },
  {
   "cell_type": "code",
   "execution_count": 221,
   "id": "0912ec22",
   "metadata": {},
   "outputs": [
    {
     "data": {
      "text/plain": [
       "0.3118278206898051"
      ]
     },
     "execution_count": 221,
     "metadata": {},
     "output_type": "execute_result"
    }
   ],
   "source": [
    "x = 1 - sum([1/i for i in range(51,101)])\n",
    "x"
   ]
  },
  {
   "cell_type": "code",
   "execution_count": 229,
   "id": "3d208339",
   "metadata": {},
   "outputs": [],
   "source": [
    "import pandas as pd\n",
    "import numpy as np"
   ]
  },
  {
   "cell_type": "code",
   "execution_count": 289,
   "id": "aaf20564",
   "metadata": {},
   "outputs": [],
   "source": [
    "data = [[3, '2020-03-21 10:16:13'], [7, '2020-01-04 13:57:59'], [2, '2020-07-29 23:09:44'], [6, '2020-12-09 10:39:37']]\n",
    "signups = pd.DataFrame(data, columns=['user_id', 'time_stamp']).astype({'user_id':'Int64', 'time_stamp':'datetime64[ns]'})\n",
    "data = [[3, '2021-01-06 03:30:46', 'timeout'], [3, '2021-07-14 14:00:00', 'timeout'], [7, '2021-06-12 11:57:29', 'confirmed'], [7, '2021-06-13 12:58:28', 'confirmed'], [7, '2021-06-14 13:59:27', 'confirmed'], [2, '2021-01-22 00:00:00', 'confirmed'], [2, '2021-02-28 23:59:59', 'timeout']]\n",
    "confirmations = pd.DataFrame(data, columns=['user_id', 'time_stamp', 'action']).astype({'user_id':'Int64', 'time_stamp':'datetime64[ns]', 'action':'object'})"
   ]
  },
  {
   "cell_type": "code",
   "execution_count": 297,
   "id": "fabc49d1",
   "metadata": {},
   "outputs": [],
   "source": [
    "confirmations['confirmation_rate'] = np.where((confirmations['action'] == 'confirmed'), 1, 0)"
   ]
  },
  {
   "cell_type": "code",
   "execution_count": 307,
   "id": "a3944439",
   "metadata": {},
   "outputs": [],
   "source": [
    "group_df = confirmations.groupby('user_id', as_index = False).confirmation_rate.mean().round(2)"
   ]
  },
  {
   "cell_type": "code",
   "execution_count": 308,
   "id": "3724f763",
   "metadata": {},
   "outputs": [],
   "source": [
    "join_df = signups.merge(group_df, on = 'user_id', how = 'left').fillna(0)[['user_id', 'confirmation_rate']]"
   ]
  },
  {
   "cell_type": "code",
   "execution_count": 309,
   "id": "1028ad39",
   "metadata": {},
   "outputs": [
    {
     "data": {
      "text/html": [
       "<div>\n",
       "<style scoped>\n",
       "    .dataframe tbody tr th:only-of-type {\n",
       "        vertical-align: middle;\n",
       "    }\n",
       "\n",
       "    .dataframe tbody tr th {\n",
       "        vertical-align: top;\n",
       "    }\n",
       "\n",
       "    .dataframe thead th {\n",
       "        text-align: right;\n",
       "    }\n",
       "</style>\n",
       "<table border=\"1\" class=\"dataframe\">\n",
       "  <thead>\n",
       "    <tr style=\"text-align: right;\">\n",
       "      <th></th>\n",
       "      <th>user_id</th>\n",
       "      <th>confirmation_rate</th>\n",
       "    </tr>\n",
       "  </thead>\n",
       "  <tbody>\n",
       "    <tr>\n",
       "      <th>0</th>\n",
       "      <td>3</td>\n",
       "      <td>0.0</td>\n",
       "    </tr>\n",
       "    <tr>\n",
       "      <th>1</th>\n",
       "      <td>7</td>\n",
       "      <td>1.0</td>\n",
       "    </tr>\n",
       "    <tr>\n",
       "      <th>2</th>\n",
       "      <td>2</td>\n",
       "      <td>0.5</td>\n",
       "    </tr>\n",
       "    <tr>\n",
       "      <th>3</th>\n",
       "      <td>6</td>\n",
       "      <td>0.0</td>\n",
       "    </tr>\n",
       "  </tbody>\n",
       "</table>\n",
       "</div>"
      ],
      "text/plain": [
       "   user_id  confirmation_rate\n",
       "0        3                0.0\n",
       "1        7                1.0\n",
       "2        2                0.5\n",
       "3        6                0.0"
      ]
     },
     "execution_count": 309,
     "metadata": {},
     "output_type": "execute_result"
    }
   ],
   "source": [
    "join_df"
   ]
  },
  {
   "cell_type": "code",
   "execution_count": 311,
   "id": "9a774682",
   "metadata": {},
   "outputs": [
    {
     "data": {
      "text/plain": [
       "7.888609052210118e-31"
      ]
     },
     "execution_count": 311,
     "metadata": {},
     "output_type": "execute_result"
    }
   ],
   "source": [
    "(1/2)**100"
   ]
  },
  {
   "cell_type": "code",
   "execution_count": null,
   "id": "db3a0753",
   "metadata": {},
   "outputs": [],
   "source": []
  }
 ],
 "metadata": {
  "kernelspec": {
   "display_name": "Python 3 (ipykernel)",
   "language": "python",
   "name": "python3"
  },
  "language_info": {
   "codemirror_mode": {
    "name": "ipython",
    "version": 3
   },
   "file_extension": ".py",
   "mimetype": "text/x-python",
   "name": "python",
   "nbconvert_exporter": "python",
   "pygments_lexer": "ipython3",
   "version": "3.11.4"
  }
 },
 "nbformat": 4,
 "nbformat_minor": 5
}
