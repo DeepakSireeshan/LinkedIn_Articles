{
 "cells": [
  {
   "cell_type": "code",
   "execution_count": 226,
   "id": "9c204a09",
   "metadata": {},
   "outputs": [],
   "source": [
    "import pandas as pd\n",
    "import numpy as np"
   ]
  },
  {
   "cell_type": "code",
   "execution_count": 320,
   "id": "bcf8741a",
   "metadata": {},
   "outputs": [],
   "source": [
    "data = [['Leetcode', 'Buy', 1, 1000], ['Corona Masks', 'Buy', 2, 10], ['Leetcode', 'Sell', 5, 9000], ['Handbags', 'Buy', 17, 30000], ['Corona Masks', 'Sell', 3, 1010], ['Corona Masks', 'Buy', 4, 1000], ['Corona Masks', 'Sell', 5, 500], ['Corona Masks', 'Buy', 6, 1000], ['Handbags', 'Sell', 29, 7000], ['Corona Masks', 'Sell', 10, 10000]]\n",
    "stocks = pd.DataFrame(data, columns=['stock_name', 'operation', 'operation_day', 'price']).astype({'stock_name':'object', 'operation':'object', 'operation_day':'Int64', 'price':'Int64'})"
   ]
  },
  {
   "cell_type": "code",
   "execution_count": 338,
   "id": "98396033",
   "metadata": {},
   "outputs": [
    {
     "data": {
      "text/plain": [
       "stock_name    operation\n",
       "Corona Masks  Buy            <NA>\n",
       "              Sell           9500\n",
       "Handbags      Buy           18490\n",
       "              Sell         -23000\n",
       "Leetcode      Buy           -6000\n",
       "              Sell           8000\n",
       "Name: price, dtype: Int64"
      ]
     },
     "execution_count": 338,
     "metadata": {},
     "output_type": "execute_result"
    }
   ],
   "source": [
    "stocks.groupby(['stock_name', 'operation']).price.sum()"
   ]
  },
  {
   "cell_type": "code",
   "execution_count": 340,
   "id": "f397e312",
   "metadata": {},
   "outputs": [],
   "source": [
    "df = stocks.pivot_table(index='stock_name', columns='operation', values='price', aggfunc='sum')"
   ]
  },
  {
   "cell_type": "code",
   "execution_count": 349,
   "id": "fb29d6d9",
   "metadata": {},
   "outputs": [
    {
     "data": {
      "text/html": [
       "<div>\n",
       "<style scoped>\n",
       "    .dataframe tbody tr th:only-of-type {\n",
       "        vertical-align: middle;\n",
       "    }\n",
       "\n",
       "    .dataframe tbody tr th {\n",
       "        vertical-align: top;\n",
       "    }\n",
       "\n",
       "    .dataframe thead th {\n",
       "        text-align: right;\n",
       "    }\n",
       "</style>\n",
       "<table border=\"1\" class=\"dataframe\">\n",
       "  <thead>\n",
       "    <tr style=\"text-align: right;\">\n",
       "      <th></th>\n",
       "      <th>stock_name</th>\n",
       "      <th>f</th>\n",
       "    </tr>\n",
       "  </thead>\n",
       "  <tbody>\n",
       "    <tr>\n",
       "      <th>0</th>\n",
       "      <td>Corona Masks</td>\n",
       "      <td>9500</td>\n",
       "    </tr>\n",
       "    <tr>\n",
       "      <th>1</th>\n",
       "      <td>Handbags</td>\n",
       "      <td>-23000</td>\n",
       "    </tr>\n",
       "    <tr>\n",
       "      <th>2</th>\n",
       "      <td>Leetcode</td>\n",
       "      <td>8000</td>\n",
       "    </tr>\n",
       "  </tbody>\n",
       "</table>\n",
       "</div>"
      ],
      "text/plain": [
       "     stock_name       f\n",
       "0  Corona Masks    9500\n",
       "1      Handbags  -23000\n",
       "2      Leetcode    8000"
      ]
     },
     "execution_count": 349,
     "metadata": {},
     "output_type": "execute_result"
    }
   ],
   "source": [
    "(df['Sell'] - df['Buy']).reset_index(name = 'Capital_gain_loss')"
   ]
  },
  {
   "cell_type": "code",
   "execution_count": 351,
   "id": "d18ec9c9",
   "metadata": {},
   "outputs": [],
   "source": [
    "dic = {'1,2' : 5, '3,4' : 6}"
   ]
  },
  {
   "cell_type": "code",
   "execution_count": 353,
   "id": "81665468",
   "metadata": {},
   "outputs": [
    {
     "data": {
      "text/plain": [
       "True"
      ]
     },
     "execution_count": 353,
     "metadata": {},
     "output_type": "execute_result"
    }
   ],
   "source": [
    "('1,2') in dic"
   ]
  },
  {
   "cell_type": "code",
   "execution_count": 355,
   "id": "d1eb1d9f",
   "metadata": {},
   "outputs": [
    {
     "data": {
      "text/plain": [
       "5"
      ]
     },
     "execution_count": 355,
     "metadata": {},
     "output_type": "execute_result"
    }
   ],
   "source": [
    "dic['1,2']"
   ]
  },
  {
   "cell_type": "code",
   "execution_count": null,
   "id": "ee006450",
   "metadata": {},
   "outputs": [],
   "source": []
  }
 ],
 "metadata": {
  "kernelspec": {
   "display_name": "Python 3 (ipykernel)",
   "language": "python",
   "name": "python3"
  },
  "language_info": {
   "codemirror_mode": {
    "name": "ipython",
    "version": 3
   },
   "file_extension": ".py",
   "mimetype": "text/x-python",
   "name": "python",
   "nbconvert_exporter": "python",
   "pygments_lexer": "ipython3",
   "version": "3.11.4"
  }
 },
 "nbformat": 4,
 "nbformat_minor": 5
}
