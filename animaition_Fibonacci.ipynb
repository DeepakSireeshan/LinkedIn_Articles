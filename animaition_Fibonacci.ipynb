{
 "cells": [
  {
   "cell_type": "code",
   "execution_count": 5,
   "id": "78e6848c",
   "metadata": {},
   "outputs": [],
   "source": [
    "import matplotlib.pyplot as plt\n",
    "import numpy as np\n",
    "import matplotlib.patches as patches"
   ]
  },
  {
   "cell_type": "code",
   "execution_count": 6,
   "id": "9eef226c",
   "metadata": {},
   "outputs": [],
   "source": [
    "def rectangle(x,y,z):\n",
    "    return patches.Rectangle((x, y), 2, 1, linewidth=3, edgecolor='black', facecolor='white') if z == 0 else patches.Rectangle((x, y), 1, 2, linewidth=3, edgecolor='black', facecolor='white')\n",
    "\n",
    "    "
   ]
  },
  {
   "cell_type": "code",
   "execution_count": 7,
   "id": "cb985b29",
   "metadata": {},
   "outputs": [
    {
     "data": {
      "text/plain": [
       "<matplotlib.patches.Rectangle at 0x2adb24d9ed0>"
      ]
     },
     "execution_count": 7,
     "metadata": {},
     "output_type": "execute_result"
    }
   ],
   "source": [
    "rectangle(0,0,0)"
   ]
  },
  {
   "cell_type": "code",
   "execution_count": 71,
   "id": "8998917f",
   "metadata": {},
   "outputs": [],
   "source": [
    "!mkdir images_fibonacci"
   ]
  },
  {
   "cell_type": "code",
   "execution_count": 40,
   "id": "5411a0d5",
   "metadata": {
    "scrolled": true
   },
   "outputs": [
    {
     "data": {
      "image/png": "[encoded data removed]",
      "text/plain": [
       "<Figure size 500x500 with 1 Axes>"
      ]
     },
     "metadata": {},
     "output_type": "display_data"
    },
    {
     "data": {
      "image/png": "[encoded data removed]",
      "text/plain": [
       "<Figure size 500x500 with 1 Axes>"
      ]
     },
     "metadata": {},
     "output_type": "display_data"
    },
    {
     "data": {
      "image/png": "[encoded data removed]",
      "text/plain": [
       "<Figure size 500x500 with 1 Axes>"
      ]
     },
     "metadata": {},
     "output_type": "display_data"
    },
    {
     "data": {
      "image/png": "[encoded data removed]",
      "text/plain": [
       "<Figure size 500x500 with 1 Axes>"
      ]
     },
     "metadata": {},
     "output_type": "display_data"
    },
    {
     "data": {
      "image/png": "[encoded data removed]",
      "text/plain": [
       "<Figure size 500x500 with 1 Axes>"
      ]
     },
     "metadata": {},
     "output_type": "display_data"
    },
    {
     "data": {
      "image/png": "[encoded data removed]",
      "text/plain": [
       "<Figure size 500x500 with 1 Axes>"
      ]
     },
     "metadata": {},
     "output_type": "display_data"
    },
    {
     "data": {
      "image/png": "[encoded data removed]",
      "text/plain": [
       "<Figure size 500x500 with 1 Axes>"
      ]
     },
     "metadata": {},
     "output_type": "display_data"
    },
    {
     "data": {
      "image/png": "[encoded data removed]",
      "text/plain": [
       "<Figure size 500x500 with 1 Axes>"
      ]
     },
     "metadata": {},
     "output_type": "display_data"
    }
   ],
   "source": [
    "xcor =[0,1,1,3,4,5,6,6]\n",
    "ycor = [0,0,1,0,0,0,0,1]\n",
    "voh = [1,0,0,1,1,1,0,0]\n",
    "xcor1 =[0,1,2,2,4,5,5,7]\n",
    "ycor1 = [0,0,0,1,0,0,1,0]\n",
    "voh1 = [1,1,0,0,1,0,0,1]\n",
    "images = []\n",
    "for i in range(len(xcor1)):\n",
    "    fig, ax = plt.subplots(figsize = (5,5))\n",
    "    ax.set_xlim(0,8)\n",
    "    ax.set_ylim(0,2)\n",
    "    ax.set_xticks([])\n",
    "    ax.set_yticks([])\n",
    "    ax.set_aspect('equal', adjustable='box')\n",
    "    for j in range(i+1):\n",
    "        ax.add_patch(rectangle(xcor1[j], ycor1[j], voh1[j]))\n",
    "    plt.savefig(f'images_fibonacci/{i:002}', facecolor = 'white')\n",
    "    "
   ]
  },
  {
   "cell_type": "code",
   "execution_count": 38,
   "id": "58b3667e",
   "metadata": {},
   "outputs": [
    {
     "data": {
      "text/plain": [
       "Text(0.5, -0.5, '1+2+1+1+1+2')"
      ]
     },
     "execution_count": 38,
     "metadata": {},
     "output_type": "execute_result"
    },
    {
     "data": {
      "image/png": "[encoded data removed]",
      "text/plain": [
       "<Figure size 600x600 with 2 Axes>"
      ]
     },
     "metadata": {},
     "output_type": "display_data"
    }
   ],
   "source": [
    "xcor =[0,1,1,3,4,5,6,6]\n",
    "ycor = [0,0,1,0,0,0,0,1]\n",
    "voh = [1,0,0,1,1,1,0,0]\n",
    "xcor1 =[0,1,2,2,4,5,5,7]\n",
    "ycor1 = [0,0,0,1,0,0,1,0]\n",
    "voh1 = [1,1,0,0,1,0,0,1]\n",
    "fig, ax = plt.subplots(1,2, figsize = (6,6))\n",
    "ax[0].set_xlim(0,8)\n",
    "ax[0].set_ylim(0,2)\n",
    "ax[0].set_xticks([])\n",
    "ax[0].set_yticks([])\n",
    "ax[0].set_aspect('equal', adjustable='box')\n",
    "for j in range(8):\n",
    "    ax[0].add_patch(rectangle(xcor1[j], ycor1[j], voh1[j]))\n",
    "ax[0].set_title('1+1+2+1+2+1', y = -0.5)\n",
    "\n",
    "ax[1].set_xlim(0,8)\n",
    "ax[1].set_ylim(0,2)\n",
    "ax[1].set_xticks([])\n",
    "ax[1].set_yticks([])\n",
    "ax[1].set_aspect('equal', adjustable='box')\n",
    "for j in range(8):\n",
    "    ax[1].add_patch(rectangle(xcor[j], ycor[j], voh[j]))\n",
    "ax[1].set_title('1+2+1+1+1+2', y = -0.5)\n",
    "#plt.savefig('images_fibonacci/equation', facecolor = 'white')\n",
    "#plt.savefig(f'images_fibonacci/{i:002}', facecolor = 'white')"
   ]
  },
  {
   "cell_type": "code",
   "execution_count": null,
   "id": "f011345e",
   "metadata": {},
   "outputs": [],
   "source": []
  }
 ],
 "metadata": {
  "kernelspec": {
   "display_name": "Python 3 (ipykernel)",
   "language": "python",
   "name": "python3"
  },
  "language_info": {
   "codemirror_mode": {
    "name": "ipython",
    "version": 3
   },
   "file_extension": ".py",
   "mimetype": "text/x-python",
   "name": "python",
   "nbconvert_exporter": "python",
   "pygments_lexer": "ipython3",
   "version": "3.11.4"
  }
 },
 "nbformat": 4,
 "nbformat_minor": 5
}
